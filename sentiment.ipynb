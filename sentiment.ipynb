{
 "cells": [
  {
   "cell_type": "code",
   "execution_count": 9,
   "metadata": {},
   "outputs": [
    {
     "data": {
      "text/html": [
       "<div>\n",
       "<style scoped>\n",
       "    .dataframe tbody tr th:only-of-type {\n",
       "        vertical-align: middle;\n",
       "    }\n",
       "\n",
       "    .dataframe tbody tr th {\n",
       "        vertical-align: top;\n",
       "    }\n",
       "\n",
       "    .dataframe thead th {\n",
       "        text-align: right;\n",
       "    }\n",
       "</style>\n",
       "<table border=\"1\" class=\"dataframe\">\n",
       "  <thead>\n",
       "    <tr style=\"text-align: right;\">\n",
       "      <th></th>\n",
       "      <th>Deskripsi</th>\n",
       "      <th>Label</th>\n",
       "    </tr>\n",
       "  </thead>\n",
       "  <tbody>\n",
       "    <tr>\n",
       "      <th>0</th>\n",
       "      <td>[]</td>\n",
       "      <td>1</td>\n",
       "    </tr>\n",
       "    <tr>\n",
       "      <th>1</th>\n",
       "      <td>[]</td>\n",
       "      <td>1</td>\n",
       "    </tr>\n",
       "    <tr>\n",
       "      <th>2</th>\n",
       "      <td>['struggle', 'lancar']</td>\n",
       "      <td>1</td>\n",
       "    </tr>\n",
       "    <tr>\n",
       "      <th>3</th>\n",
       "      <td>['aman', 'kendali']</td>\n",
       "      <td>1</td>\n",
       "    </tr>\n",
       "    <tr>\n",
       "      <th>4</th>\n",
       "      <td>['terjun', 'langsung', 'rasa', 'karyawan', 'al...</td>\n",
       "      <td>1</td>\n",
       "    </tr>\n",
       "  </tbody>\n",
       "</table>\n",
       "</div>"
      ],
      "text/plain": [
       "                                           Deskripsi  Label\n",
       "0                                                 []      1\n",
       "1                                                 []      1\n",
       "2                             ['struggle', 'lancar']      1\n",
       "3                                ['aman', 'kendali']      1\n",
       "4  ['terjun', 'langsung', 'rasa', 'karyawan', 'al...      1"
      ]
     },
     "execution_count": 9,
     "metadata": {},
     "output_type": "execute_result"
    }
   ],
   "source": [
    "import pandas as pd \n",
    "import numpy as np\n",
    "\n",
    "Sentiment_data = pd.read_excel(\"Sentiment_Preprocessing.xlsx\", usecols=[\"Label\", \"Deskripsi_tokens_stemmed\"])\n",
    "Sentiment_data.columns = [\"Deskripsi\", \"Label\"]\n",
    "\n",
    "Sentiment_data.head()"
   ]
  },
  {
   "cell_type": "code",
   "execution_count": 10,
   "metadata": {},
   "outputs": [
    {
     "data": {
      "text/plain": [
       "0                                                 \n",
       "1                                                 \n",
       "2                                  struggle lancar\n",
       "3                                     aman kendali\n",
       "4    terjun langsung rasa karyawan alam ajar dapat\n",
       "Name: Sentiment_join, dtype: object"
      ]
     },
     "execution_count": 10,
     "metadata": {},
     "output_type": "execute_result"
    }
   ],
   "source": [
    "import ast\n",
    "\n",
    "def join_text_list(texts):\n",
    "    texts = ast.literal_eval(texts)\n",
    "    return ' '.join([text for text in texts])\n",
    "Sentiment_data[\"Sentiment_join\"] = Sentiment_data[\"Deskripsi\"].apply(join_text_list)\n",
    "\n",
    "Sentiment_data[\"Sentiment_join\"].head()"
   ]
  },
  {
   "cell_type": "code",
   "execution_count": 11,
   "metadata": {},
   "outputs": [],
   "source": [
    "label = Sentiment_data[\"Label\"]\n",
    "text = Sentiment_data[\"Sentiment_join\"]"
   ]
  },
  {
   "cell_type": "code",
   "execution_count": 12,
   "metadata": {},
   "outputs": [
    {
     "data": {
      "text/plain": [
       "['tfidf_vectorizer.pkl']"
      ]
     },
     "execution_count": 12,
     "metadata": {},
     "output_type": "execute_result"
    }
   ],
   "source": [
    "from sklearn.feature_extraction.text import TfidfVectorizer, CountVectorizer\n",
    "from sklearn.preprocessing import normalize\n",
    "from sklearn.model_selection import train_test_split\n",
    "import joblib\n",
    "# Split data menjadi train set dan test set\n",
    "train_data, test_data, train_labels, test_labels = train_test_split(text, label, test_size=0.2, random_state=42)\n",
    "\n",
    "\n",
    "cvect = CountVectorizer()\n",
    "tfidf_mat_train = cvect.fit_transform(train_data)\n",
    "#fit transform hanya pada data latih\n",
    "tfidf_mat_test = cvect.transform(test_data)\n",
    "\n",
    "joblib.dump(cvect, 'tfidf_vectorizer.pkl')"
   ]
  },
  {
   "cell_type": "code",
   "execution_count": 13,
   "metadata": {},
   "outputs": [
    {
     "name": "stdout",
     "output_type": "stream",
     "text": [
      "Linear Kernel:\n",
      "Accuracy: 0.7333333333333333\n",
      "Precision: 0.7333333333333333\n",
      "Recall: 0.7333333333333333\n",
      "F1-score: 0.7333333333333333\n",
      "Confusion Matrix (Linear Kernel):\n",
      "[[ 9  6]\n",
      " [ 6 24]]\n"
     ]
    }
   ],
   "source": [
    "from sklearn.svm import SVC\n",
    "from sklearn.metrics import accuracy_score, precision_score, recall_score, f1_score, confusion_matrix\n",
    "\n",
    "# Kernel yang akan digunakan\n",
    "kernel_linear = 'linear'\n",
    "\n",
    "# Inisialisasi model SVM dengan kernel linear\n",
    "svm_linear = SVC(kernel=kernel_linear)\n",
    "\n",
    "svm_linear.fit(tfidf_mat_train, train_labels)\n",
    "\n",
    "#klasifikasi\n",
    "predictions_linear = svm_linear.predict(tfidf_mat_test)\n",
    "\n",
    "# Menghitung akurasi, precision, recall, dan F1-score dengan kernel linear\n",
    "accuracy_linear = accuracy_score(test_labels, predictions_linear)\n",
    "precision_linear = precision_score(test_labels, predictions_linear, average='weighted')\n",
    "recall_linear = recall_score(test_labels, predictions_linear, average='weighted')\n",
    "f1_linear = f1_score(test_labels, predictions_linear, average='weighted')\n",
    "\n",
    "print(\"Linear Kernel:\")\n",
    "print(\"Accuracy:\", accuracy_linear)\n",
    "print(\"Precision:\", precision_linear)\n",
    "print(\"Recall:\", recall_linear)\n",
    "print(\"F1-score:\", f1_linear)\n",
    "\n",
    "cm_linear = confusion_matrix(test_labels, predictions_linear)\n",
    "print(\"Confusion Matrix (Linear Kernel):\")\n",
    "print(cm_linear)\n"
   ]
  },
  {
   "cell_type": "code",
   "execution_count": 14,
   "metadata": {},
   "outputs": [
    {
     "data": {
      "text/plain": [
       "['sentimen.pkl']"
      ]
     },
     "execution_count": 14,
     "metadata": {},
     "output_type": "execute_result"
    }
   ],
   "source": [
    "import joblib\n",
    "\n",
    "joblib.dump(svm_linear, 'sentimen.pkl')\n"
   ]
  },
  {
   "cell_type": "code",
   "execution_count": 19,
   "metadata": {},
   "outputs": [
    {
     "name": "stdout",
     "output_type": "stream",
     "text": [
      "Hasil prediksi untuk kalimat pertama: 0\n"
     ]
    }
   ],
   "source": [
    "import joblib\n",
    "\n",
    "# Memuat model dan TfidfVectorizer\n",
    "model = joblib.load('sentimen.pkl')\n",
    "tfidf = joblib.load('tfidf_vectorizer.pkl')\n",
    "\n",
    "# Kalimat yang ingin diuji\n",
    "kalimat1 = [\"kadang ada yang susah dihubungi\"]\n",
    "\n",
    "# Transformasi kalimat menggunakan TfidfVectorizer yang sudah dilatih\n",
    "tfidf_mat_test = tfidf.transform(kalimat1)\n",
    "\n",
    "# Prediksi sentimen untuk kalimat pertama\n",
    "hasil1 = model.predict(tfidf_mat_test)[0]\n",
    "print(f\"Hasil prediksi untuk kalimat pertama: {hasil1}\")"
   ]
  },
  {
   "cell_type": "code",
   "execution_count": 20,
   "metadata": {},
   "outputs": [
    {
     "name": "stdout",
     "output_type": "stream",
     "text": [
      "Hasil prediksi telah disimpan di hasil_prediksi_sentimen.xlsx\n"
     ]
    }
   ],
   "source": [
    "import pandas as pd\n",
    "import joblib\n",
    "\n",
    "# Muat model dan TfidfVectorizer\n",
    "model = joblib.load('sentimen.pkl')\n",
    "tfidf = joblib.load('tfidf_vectorizer.pkl')\n",
    "\n",
    "file_path = 'data_new 3.xlsx'\n",
    "df = pd.read_excel(file_path)\n",
    "\n",
    "# Memastikan bahwa kolom 'sentimen' ada\n",
    "if 'Deskripsi' not in df.columns:\n",
    "    raise ValueError(\"Kolom 'Deskripsi' tidak ditemukan dalam file Excel.\")\n",
    "\n",
    "# Transformasi kalimat menggunakan TfidfVectorizer\n",
    "tfidf_mat_test = tfidf.transform(df['Deskripsi'])\n",
    "\n",
    "# Prediksi sentimen dengan model\n",
    "predictions = model.predict(tfidf_mat_test)\n",
    "\n",
    "# tulis hasil prediksi di kolom baru\n",
    "df['prediksi'] = predictions\n",
    "\n",
    "# simpan hasil\n",
    "output_file_path = 'hasil_prediksi_sentimen.xlsx'\n",
    "df.to_excel(output_file_path, index=False)\n",
    "\n",
    "print(f\"Hasil prediksi telah disimpan di {output_file_path}\")\n"
   ]
  },
  {
   "cell_type": "code",
   "execution_count": null,
   "metadata": {},
   "outputs": [],
   "source": []
  }
 ],
 "metadata": {
  "kernelspec": {
   "display_name": "Python 3",
   "language": "python",
   "name": "python3"
  },
  "language_info": {
   "codemirror_mode": {
    "name": "ipython",
    "version": 3
   },
   "file_extension": ".py",
   "mimetype": "text/x-python",
   "name": "python",
   "nbconvert_exporter": "python",
   "pygments_lexer": "ipython3",
   "version": "3.11.3"
  }
 },
 "nbformat": 4,
 "nbformat_minor": 2
}
